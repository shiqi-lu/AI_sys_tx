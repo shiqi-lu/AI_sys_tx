{
 "cells": [
  {
   "cell_type": "markdown",
   "metadata": {},
   "source": [
    "# cupy"
   ]
  },
  {
   "cell_type": "code",
   "execution_count": 1,
   "metadata": {},
   "outputs": [],
   "source": [
    "import cupy as cp\n",
    "x_gpu = cp.array([1,2,3])"
   ]
  },
  {
   "cell_type": "code",
   "execution_count": 2,
   "metadata": {},
   "outputs": [
    {
     "data": {
      "text/plain": [
       "array([1, 2, 3])"
      ]
     },
     "execution_count": 2,
     "metadata": {},
     "output_type": "execute_result"
    }
   ],
   "source": [
    "x_gpu"
   ]
  },
  {
   "cell_type": "code",
   "execution_count": 4,
   "metadata": {},
   "outputs": [
    {
     "name": "stderr",
     "output_type": "stream",
     "text": [
      "/home/shiqi/anaconda3/lib/python3.7/site-packages/ipykernel_launcher.py:12: RuntimeWarning: overflow encountered in add\n",
      "  if sys.path[0] == '':\n"
     ]
    },
    {
     "name": "stdout",
     "output_type": "stream",
     "text": [
      "纯cpu计算时间： 8.4712553024292\n",
      "纯gpu计算时间： 0.1341259479522705\n",
      "混合的计算时间： 0.24586915969848633\n"
     ]
    }
   ],
   "source": [
    "import cupy as cp  #导入cupy工具计算包\n",
    "import numpy as np  #导入numpy工具计算包\n",
    "import time  #导入时钟计算包\n",
    "\n",
    "# 高维矩阵/数组：\n",
    "gpu = cp.ones( (1024,512,4,4) ) #定义一个全1元素的高维数组在GPU\n",
    "cpu = np.ones( (1024,512,4,4) ) #定义一个全1元素的高维数组在CPU\n",
    "\n",
    "# 纯numpy的cpu测试：\n",
    "ctime1 = time.time() #系统时钟开始计时\n",
    "for c in range(1024): #对数组进行遍历\n",
    "    cpu = np.add(cpu,cpu)   # 这里用np.add()和直接用 + 一样！内核都是cpu来算\n",
    "ctime2 = time.time() #系统计时结束\n",
    "ctotal = ctime2 - ctime1 #得到在CPU上遍历的时间\n",
    "print('纯cpu计算时间：', ctotal)#遍历时间输出\n",
    "\n",
    "# 纯cupy的gpu测试：\n",
    "gtime1 = time.time() #GPU下测试系统时钟开始计时\n",
    "for g in range(1024):\n",
    "    gpu = cp.add(gpu,gpu)   # 自带的加法函数\n",
    "gtime2 = time.time()\n",
    "gtotal = gtime2 - gtime1\n",
    "print('纯gpu计算时间：', gtotal)\n",
    "\n",
    "# gpu和cpu混合编程：\n",
    "ggtime1 = time.time()\n",
    "for g in range(1024):\n",
    "    gpu = gpu + gpu         # 手工加法：+ 默认回到cpu计算！！！\n",
    "ggtime2 = time.time()\n",
    "ggtotal = ggtime2 - ggtime1\n",
    "print('混合的计算时间：', ggtotal)"
   ]
  },
  {
   "cell_type": "code",
   "execution_count": null,
   "metadata": {},
   "outputs": [],
   "source": []
  },
  {
   "cell_type": "code",
   "execution_count": null,
   "metadata": {},
   "outputs": [],
   "source": []
  },
  {
   "cell_type": "code",
   "execution_count": null,
   "metadata": {},
   "outputs": [],
   "source": []
  },
  {
   "cell_type": "markdown",
   "metadata": {},
   "source": [
    "# Numba"
   ]
  },
  {
   "cell_type": "code",
   "execution_count": 1,
   "metadata": {},
   "outputs": [],
   "source": [
    "import numpy as np\n",
    "from numba import jit \n",
    "\n",
    "a = np.arange(1, 10 ** 7)\n",
    "b = np.arange(-10 ** 7, -1)\n",
    "\n",
    "@jit(nopython=True)\n",
    "def sum_sequence(a, b):\n",
    "    result = np.zeros_like(a)\n",
    "    for i in range(len(a)):\n",
    "        result[i] = a[i] - b[i]\n",
    "    return result\n"
   ]
  },
  {
   "cell_type": "code",
   "execution_count": 6,
   "metadata": {},
   "outputs": [
    {
     "name": "stdout",
     "output_type": "stream",
     "text": [
      "36.0\n"
     ]
    }
   ],
   "source": [
    "from numba import jit\n",
    "from numpy import arange\n",
    "# jit decorator tells Numba to compile this function.\n",
    "# The argument types will be inferred by Numba when function is called.\n",
    "@jit\n",
    "def sum2d(arr):\n",
    "    M, N = arr.shape\n",
    "    result = 0.0\n",
    "    for i in range(M):\n",
    "        for j in range(N):\n",
    "            result += arr[i,j]\n",
    "    return result\n",
    "a = arange(9).reshape(3,3)\n",
    "print(sum2d(a))"
   ]
  },
  {
   "cell_type": "code",
   "execution_count": null,
   "metadata": {},
   "outputs": [],
   "source": []
  }
 ],
 "metadata": {
  "kernelspec": {
   "display_name": "Python 3",
   "language": "python",
   "name": "python3"
  },
  "language_info": {
   "codemirror_mode": {
    "name": "ipython",
    "version": 3
   },
   "file_extension": ".py",
   "mimetype": "text/x-python",
   "name": "python",
   "nbconvert_exporter": "python",
   "pygments_lexer": "ipython3",
   "version": "3.7.6"
  }
 },
 "nbformat": 4,
 "nbformat_minor": 4
}
